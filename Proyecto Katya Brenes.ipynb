{
 "cells": [
  {
   "cell_type": "code",
   "execution_count": 1,
   "metadata": {},
   "outputs": [
    {
     "name": "stderr",
     "output_type": "stream",
     "text": [
      "C:\\Users\\Katya\\Anaconda3\\lib\\site-packages\\sklearn\\cross_validation.py:41: DeprecationWarning: This module was deprecated in version 0.18 in favor of the model_selection module into which all the refactored classes and functions are moved. Also note that the interface of the new CV iterators are different from that of this module. This module will be removed in 0.20.\n",
      "  \"This module will be removed in 0.20.\", DeprecationWarning)\n"
     ]
    }
   ],
   "source": [
    "#imports\n",
    "#numpy, pandas, scipy, math, mathpolotilib\n",
    "import numpy as np\n",
    "import pandas as pd\n",
    "import scipy\n",
    "from math import sqrt\n",
    "import matplotlib.pyplot as plt\n",
    "\n",
    "#estimators\n",
    "from sklearn.ensemble import RandomForestRegressor\n",
    "from sklearn.linear_model import LinearRegression\n",
    "from sklearn.ensemble import RandomForestClassifier \n",
    "from sklearn.datasets import make_classification\n",
    "from sklearn import svm\n",
    "#from sklearn.svm import SVR\n",
    "from sklearn import linear_model\n",
    "\n",
    "# para normalizar\n",
    "from sklearn import preprocessing\n",
    "\n",
    "#para features enginering\n",
    "#from sklearn.ensemble import RandomForestClassifier \n",
    "from sklearn.feature_selection import RFECV\n",
    "from sklearn.model_selection import StratifiedKFold\n",
    "\n",
    "#model metrics\n",
    "from sklearn.metrics import mean_squared_error\n",
    "from sklearn.metrics import r2_score\n",
    "from sklearn.metrics import accuracy_score\n",
    "from sklearn.model_selection import cross_val_score\n",
    "\n",
    "#cross validation\n",
    "from sklearn.cross_validation import train_test_split\n",
    "\n",
    "\n",
    "import os\n",
    "os.chdir(\"C:/Users/Katya/Dropbox/Curso DAyBD/Curso 5/C5 Task 4\")"
   ]
  },
  {
   "cell_type": "code",
   "execution_count": 44,
   "metadata": {},
   "outputs": [
    {
     "data": {
      "text/html": [
       "<div>\n",
       "<style scoped>\n",
       "    .dataframe tbody tr th:only-of-type {\n",
       "        vertical-align: middle;\n",
       "    }\n",
       "\n",
       "    .dataframe tbody tr th {\n",
       "        vertical-align: top;\n",
       "    }\n",
       "\n",
       "    .dataframe thead th {\n",
       "        text-align: right;\n",
       "    }\n",
       "</style>\n",
       "<table border=\"1\" class=\"dataframe\">\n",
       "  <thead>\n",
       "    <tr style=\"text-align: right;\">\n",
       "      <th></th>\n",
       "      <th>Delito</th>\n",
       "      <th>SubDelito</th>\n",
       "      <th>Fecha</th>\n",
       "      <th>Hora</th>\n",
       "      <th>Victima</th>\n",
       "      <th>SubVictima</th>\n",
       "      <th>Edad</th>\n",
       "      <th>Genero</th>\n",
       "      <th>Nacionalidad</th>\n",
       "      <th>Provincia</th>\n",
       "      <th>Canton</th>\n",
       "    </tr>\n",
       "  </thead>\n",
       "  <tbody>\n",
       "    <tr>\n",
       "      <th>0</th>\n",
       "      <td>ASALTO</td>\n",
       "      <td>5</td>\n",
       "      <td>01/01/2019</td>\n",
       "      <td>06:00:00 - 08:59:59</td>\n",
       "      <td>PERSONA</td>\n",
       "      <td>1</td>\n",
       "      <td>Mayor de edad</td>\n",
       "      <td>HOMBRE</td>\n",
       "      <td>1</td>\n",
       "      <td>SAN JOSE</td>\n",
       "      <td>31</td>\n",
       "    </tr>\n",
       "    <tr>\n",
       "      <th>1</th>\n",
       "      <td>ASALTO</td>\n",
       "      <td>5</td>\n",
       "      <td>06/01/2019</td>\n",
       "      <td>18:00:00 - 20:59:59</td>\n",
       "      <td>PERSONA</td>\n",
       "      <td>4</td>\n",
       "      <td>Mayor de edad</td>\n",
       "      <td>HOMBRE</td>\n",
       "      <td>1</td>\n",
       "      <td>SAN JOSE</td>\n",
       "      <td>1</td>\n",
       "    </tr>\n",
       "    <tr>\n",
       "      <th>2</th>\n",
       "      <td>ASALTO</td>\n",
       "      <td>5</td>\n",
       "      <td>07/01/2019</td>\n",
       "      <td>09:00:00 - 11:59:59</td>\n",
       "      <td>PERSONA</td>\n",
       "      <td>1</td>\n",
       "      <td>Mayor de edad</td>\n",
       "      <td>MUJER</td>\n",
       "      <td>2</td>\n",
       "      <td>SAN JOSE</td>\n",
       "      <td>1</td>\n",
       "    </tr>\n",
       "    <tr>\n",
       "      <th>3</th>\n",
       "      <td>ASALTO</td>\n",
       "      <td>5</td>\n",
       "      <td>11/01/2019</td>\n",
       "      <td>09:00:00 - 11:59:59</td>\n",
       "      <td>VEHICULO</td>\n",
       "      <td>15</td>\n",
       "      <td>Mayor de edad</td>\n",
       "      <td>HOMBRE</td>\n",
       "      <td>1</td>\n",
       "      <td>ALAJUELA</td>\n",
       "      <td>2</td>\n",
       "    </tr>\n",
       "    <tr>\n",
       "      <th>4</th>\n",
       "      <td>ASALTO</td>\n",
       "      <td>5</td>\n",
       "      <td>14/01/2019</td>\n",
       "      <td>18:00:00 - 20:59:59</td>\n",
       "      <td>PERSONA</td>\n",
       "      <td>1</td>\n",
       "      <td>Mayor de edad</td>\n",
       "      <td>HOMBRE</td>\n",
       "      <td>1</td>\n",
       "      <td>SAN JOSE</td>\n",
       "      <td>25</td>\n",
       "    </tr>\n",
       "  </tbody>\n",
       "</table>\n",
       "</div>"
      ],
      "text/plain": [
       "   Delito  SubDelito       Fecha                 Hora   Victima  SubVictima  \\\n",
       "0  ASALTO          5  01/01/2019  06:00:00 - 08:59:59   PERSONA           1   \n",
       "1  ASALTO          5  06/01/2019  18:00:00 - 20:59:59   PERSONA           4   \n",
       "2  ASALTO          5  07/01/2019  09:00:00 - 11:59:59   PERSONA           1   \n",
       "3  ASALTO          5  11/01/2019  09:00:00 - 11:59:59  VEHICULO          15   \n",
       "4  ASALTO          5  14/01/2019  18:00:00 - 20:59:59   PERSONA           1   \n",
       "\n",
       "            Edad  Genero  Nacionalidad Provincia  Canton  \n",
       "0  Mayor de edad  HOMBRE             1  SAN JOSE      31  \n",
       "1  Mayor de edad  HOMBRE             1  SAN JOSE       1  \n",
       "2  Mayor de edad   MUJER             2  SAN JOSE       1  \n",
       "3  Mayor de edad  HOMBRE             1  ALAJUELA       2  \n",
       "4  Mayor de edad  HOMBRE             1  SAN JOSE      25  "
      ]
     },
     "execution_count": 44,
     "metadata": {},
     "output_type": "execute_result"
    }
   ],
   "source": [
    "#  Lectura de la data\n",
    "dataFrame = pd.read_csv('Estadisticas CR 2.csv', header=1)\n",
    "dataFrame.head()"
   ]
  },
  {
   "cell_type": "code",
   "execution_count": 3,
   "metadata": {},
   "outputs": [
    {
     "name": "stdout",
     "output_type": "stream",
     "text": [
      "<class 'pandas.core.frame.DataFrame'>\n",
      "RangeIndex: 71744 entries, 0 to 71743\n",
      "Data columns (total 11 columns):\n",
      "Delito          71744 non-null object\n",
      "SubDelito       71744 non-null int64\n",
      "Fecha           71744 non-null object\n",
      "Hora            71744 non-null object\n",
      "Victima         71744 non-null object\n",
      "SubVictima      71744 non-null int64\n",
      "Edad            71744 non-null object\n",
      "Genero          71744 non-null object\n",
      "Nacionalidad    71744 non-null int64\n",
      "Provincia       71744 non-null object\n",
      "Canton          71744 non-null int64\n",
      "dtypes: int64(4), object(7)\n",
      "memory usage: 6.0+ MB\n"
     ]
    }
   ],
   "source": [
    "dataFrame.info()"
   ]
  },
  {
   "cell_type": "code",
   "execution_count": 4,
   "metadata": {},
   "outputs": [
    {
     "data": {
      "text/plain": [
       "array(['ASALTO', 'HOMICIDIO', 'HURTO', 'ROBO', 'ROBO DE VEHICULO',\n",
       "       'TACHA DE VEHICULO'], dtype=object)"
      ]
     },
     "execution_count": 4,
     "metadata": {},
     "output_type": "execute_result"
    }
   ],
   "source": [
    "dataFrame[\"Delito\"].unique()"
   ]
  },
  {
   "cell_type": "code",
   "execution_count": 5,
   "metadata": {},
   "outputs": [
    {
     "data": {
      "text/plain": [
       "array([ 5, 27,  2,  9, 22, 32, 12, 24, 18, 10, 34, 26, 29, 33, 31, 14,  7,\n",
       "       21,  6,  1, 23, 25, 30, 11, 20, 13,  3, 16, 15, 28, 17, 19,  8,  4],\n",
       "      dtype=int64)"
      ]
     },
     "execution_count": 5,
     "metadata": {},
     "output_type": "execute_result"
    }
   ],
   "source": [
    "dataFrame[\"SubDelito\"].unique()"
   ]
  },
  {
   "cell_type": "code",
   "execution_count": 6,
   "metadata": {},
   "outputs": [
    {
     "data": {
      "text/plain": [
       "array(['PERSONA', 'VEHICULO', 'EDIFICACION', 'VIVIENDA', 'OTROS'],\n",
       "      dtype=object)"
      ]
     },
     "execution_count": 6,
     "metadata": {},
     "output_type": "execute_result"
    }
   ],
   "source": [
    "dataFrame[\"Victima\"].unique()"
   ]
  },
  {
   "cell_type": "code",
   "execution_count": 7,
   "metadata": {},
   "outputs": [
    {
     "data": {
      "text/plain": [
       "array([ 1,  4, 15, 38, 22,  2, 39, 21, 25,  3, 31, 47,  6, 41, 50, 12, 30,\n",
       "       27,  5, 36, 18, 26,  8, 14, 63, 13, 57, 64, 33, 11, 51, 16, 49, 10,\n",
       "       17, 20, 45, 23, 44, 19, 54,  9, 35, 48, 40, 37, 56, 34, 42, 52, 28,\n",
       "       29, 61, 32, 59, 60, 53, 43, 55, 58,  7, 65, 62, 46, 24],\n",
       "      dtype=int64)"
      ]
     },
     "execution_count": 7,
     "metadata": {},
     "output_type": "execute_result"
    }
   ],
   "source": [
    "dataFrame[\"SubVictima\"].unique()"
   ]
  },
  {
   "cell_type": "code",
   "execution_count": 8,
   "metadata": {},
   "outputs": [
    {
     "data": {
      "text/plain": [
       "array(['Mayor de edad', 'Desconocido', 'Adulto Mayor', 'Menor de edad'],\n",
       "      dtype=object)"
      ]
     },
     "execution_count": 8,
     "metadata": {},
     "output_type": "execute_result"
    }
   ],
   "source": [
    "dataFrame[\"Edad\"].unique()"
   ]
  },
  {
   "cell_type": "code",
   "execution_count": 11,
   "metadata": {},
   "outputs": [
    {
     "data": {
      "text/plain": [
       "array(['COSTA RICA', 'NICARAGUA', 'EL SALVADOR', 'PAISES BAJOS (HOLANDA)',\n",
       "       'HONDURAS', 'Desconocido', 'ESTADOS UNIDOS', 'MEXICO', 'CHINA',\n",
       "       'ARGENTINA', 'ESPANA', 'VENEZUELA', 'FILIPINAS', 'FRANCIA',\n",
       "       'PANAMA', 'CANADA', 'INGLATERRA', 'ALEMANIA', 'COLOMBIA',\n",
       "       'GUATEMALA', 'DINAMARCA', 'PERU', 'ITALIA', 'SUIZA', 'HAITI',\n",
       "       'BELGICA', 'CHILE', 'BRASIL', 'DOMINICANA', 'NEPAL', 'INDIA',\n",
       "       'UCRANIA', 'LIBANO', 'URUGUAY', 'CUBA', 'CHECA', 'ECUADOR',\n",
       "       'DOMINICA', 'COREA DEL NORTE', 'JAMAICA', 'RUMANIA', 'MICRONESIA',\n",
       "       'NUEVA ZELANDA', 'ISRAEL', 'AUSTRIA', 'NORUEGA', 'BAHAMAS',\n",
       "       'FINLANDIA', 'IRLANDA DEL NORTE', 'JAPON', 'AUSTRALIA', 'SUECIA',\n",
       "       'RUSIA', 'POLONIA', 'HONG KONG', 'TURQUIA', 'BOLIVIA', 'IRLANDA',\n",
       "       'SIRIA', 'TAIWAN', 'COREA DEL SUR', 'SUDAFRICA', 'SINGAPUR',\n",
       "       'PORTUGAL', 'BULGARIA', 'MARRUECOS', 'HUNGRIA', 'GRECIA',\n",
       "       'ESLOVAQUIA', 'ARABIA SAUDITA', 'CROACIA', 'ISLANDIA', 'MALASIA',\n",
       "       'ESLOVENIA', 'SERBIA', 'PARAGUAY', 'AFGANISTAN', 'BELICE',\n",
       "       'LITUANIA', 'PUERTO RICO', 'LUXEMBURGO', 'TRINIDAD Y TOBAGO',\n",
       "       'MARTINICA', 'CENTROAFRICANA', 'ALBANIA', 'TUNEZ', 'JORDANIA',\n",
       "       'SENEGAL', 'KAZAJISTAN', 'BIELORRUSIA', 'ESTONIA'], dtype=object)"
      ]
     },
     "execution_count": 11,
     "metadata": {},
     "output_type": "execute_result"
    }
   ],
   "source": [
    "dataFrame[\"Nacionalidad\"].unique()"
   ]
  },
  {
   "cell_type": "code",
   "execution_count": 48,
   "metadata": {},
   "outputs": [
    {
     "data": {
      "text/plain": [
       "array([31,  1,  2, 25,  7, 39,  5, 40, 58, 10, 33,  9, 43, 12,  3,  6, 26,\n",
       "       55, 24, 18, 14,  4, 11,  8, 36, 17, 15, 27, 22, 16, 21, 32, 66, 37,\n",
       "       19, 38, 67, 46, 57, 34, 73, 35, 28, 51, 45, 23, 64, 50, 20, 41, 53,\n",
       "       13, 65, 52, 48, 44, 56, 62, 49, 47, 54, 42, 60, 29, 63, 30, 69, 70,\n",
       "       59, 68, 72, 61, 71], dtype=int64)"
      ]
     },
     "execution_count": 48,
     "metadata": {},
     "output_type": "execute_result"
    }
   ],
   "source": [
    "dataFrame[\"Canton\"].unique()"
   ]
  },
  {
   "cell_type": "code",
   "execution_count": 49,
   "metadata": {},
   "outputs": [
    {
     "data": {
      "text/plain": [
       "array(['06:00:00 - 08:59:59', '18:00:00 - 20:59:59',\n",
       "       '09:00:00 - 11:59:59', '21:00:00 - 23:59:59',\n",
       "       '00:00:00 - 02:59:59', '03:00:00 - 05:59:59',\n",
       "       '15:00:00 - 17:59:59', '12:00:00 - 14:59:59'], dtype=object)"
      ]
     },
     "execution_count": 49,
     "metadata": {},
     "output_type": "execute_result"
    }
   ],
   "source": [
    "dataFrame[\"Hora\"].unique()"
   ]
  },
  {
   "cell_type": "code",
   "execution_count": 3,
   "metadata": {},
   "outputs": [
    {
     "data": {
      "text/plain": [
       "array([1, 2, 3, 4, 5], dtype=object)"
      ]
     },
     "execution_count": 3,
     "metadata": {},
     "output_type": "execute_result"
    }
   ],
   "source": [
    "# Las diferentes categorías de Victima se pasan a numérico\n",
    "dataFrame[\"Victima\"]= np.where(dataFrame[\"Victima\"] == \"PERSONA\", 1, dataFrame[\"Victima\"])\n",
    "dataFrame[\"Victima\"]= np.where(dataFrame[\"Victima\"] == 'VEHICULO', 2, dataFrame[\"Victima\"])\n",
    "dataFrame[\"Victima\"]= np.where(dataFrame[\"Victima\"] == 'EDIFICACION', 3, dataFrame[\"Victima\"])\n",
    "dataFrame[\"Victima\"]= np.where(dataFrame[\"Victima\"] == 'VIVIENDA', 4, dataFrame[\"Victima\"])\n",
    "dataFrame[\"Victima\"]= np.where(dataFrame[\"Victima\"] == 'OTROS', 5, dataFrame[\"Victima\"])\n",
    "dataFrame[\"Victima\"].unique()"
   ]
  },
  {
   "cell_type": "code",
   "execution_count": 4,
   "metadata": {},
   "outputs": [],
   "source": [
    "dataFrame[\"Victima\"]= dataFrame[\"Victima\"].astype(\"int\")"
   ]
  },
  {
   "cell_type": "code",
   "execution_count": 5,
   "metadata": {},
   "outputs": [
    {
     "data": {
      "text/plain": [
       "array([1, 2, 3, 4, 5, 6], dtype=object)"
      ]
     },
     "execution_count": 5,
     "metadata": {},
     "output_type": "execute_result"
    }
   ],
   "source": [
    "# Las diferentes categorías de Delito se pasan a numérico\n",
    "dataFrame[\"Delito\"]= np.where(dataFrame[\"Delito\"] == \"ASALTO\", 1, dataFrame[\"Delito\"])\n",
    "dataFrame[\"Delito\"]= np.where(dataFrame[\"Delito\"] == 'HOMICIDIO', 2, dataFrame[\"Delito\"])\n",
    "dataFrame[\"Delito\"]= np.where(dataFrame[\"Delito\"] == 'HURTO', 3, dataFrame[\"Delito\"])\n",
    "dataFrame[\"Delito\"]= np.where(dataFrame[\"Delito\"] == 'ROBO', 4, dataFrame[\"Delito\"])\n",
    "dataFrame[\"Delito\"]= np.where(dataFrame[\"Delito\"] == 'ROBO DE VEHICULO', 5, dataFrame[\"Delito\"])\n",
    "dataFrame[\"Delito\"]= np.where(dataFrame[\"Delito\"] == 'TACHA DE VEHICULO', 6, dataFrame[\"Delito\"])\n",
    "dataFrame[\"Delito\"].unique()"
   ]
  },
  {
   "cell_type": "code",
   "execution_count": 6,
   "metadata": {},
   "outputs": [],
   "source": [
    "dataFrame[\"Delito\"]= dataFrame[\"Delito\"].astype(\"int\")"
   ]
  },
  {
   "cell_type": "code",
   "execution_count": 7,
   "metadata": {},
   "outputs": [
    {
     "data": {
      "text/plain": [
       "array([1, 2, 3, 4, 5, 6, 7, 8, 9], dtype=object)"
      ]
     },
     "execution_count": 7,
     "metadata": {},
     "output_type": "execute_result"
    }
   ],
   "source": [
    "# Las diferentes categorías de Provincia se pasan a numérico\n",
    "dataFrame[\"Provincia\"]= np.where(dataFrame[\"Provincia\"] == \"SAN JOSE\", 1, dataFrame[\"Provincia\"])\n",
    "dataFrame[\"Provincia\"]= np.where(dataFrame[\"Provincia\"] == 'ALAJUELA', 2, dataFrame[\"Provincia\"])\n",
    "dataFrame[\"Provincia\"]= np.where(dataFrame[\"Provincia\"] == 'CARTAGO', 3, dataFrame[\"Provincia\"])\n",
    "dataFrame[\"Provincia\"]= np.where(dataFrame[\"Provincia\"] == 'GUANACASTE', 4, dataFrame[\"Provincia\"])\n",
    "dataFrame[\"Provincia\"]= np.where(dataFrame[\"Provincia\"] == 'LIMON', 5, dataFrame[\"Provincia\"])\n",
    "dataFrame[\"Provincia\"]= np.where(dataFrame[\"Provincia\"] == 'PUNTARENAS', 6, dataFrame[\"Provincia\"])\n",
    "dataFrame[\"Provincia\"]= np.where(dataFrame[\"Provincia\"] == 'HEREDIA', 7, dataFrame[\"Provincia\"])\n",
    "dataFrame[\"Provincia\"]= np.where(dataFrame[\"Provincia\"] == ' REPUBLICA', 8, dataFrame[\"Provincia\"])\n",
    "dataFrame[\"Provincia\"]= np.where(dataFrame[\"Provincia\"] == 'DESCONOCIDO', 9, dataFrame[\"Provincia\"])\n",
    "dataFrame[\"Provincia\"].unique()\n",
    "\n"
   ]
  },
  {
   "cell_type": "code",
   "execution_count": 8,
   "metadata": {},
   "outputs": [],
   "source": [
    "dataFrame[\"Provincia\"]= dataFrame[\"Provincia\"].astype(\"int\")"
   ]
  },
  {
   "cell_type": "code",
   "execution_count": 17,
   "metadata": {},
   "outputs": [
    {
     "data": {
      "text/plain": [
       "0   2019-01-01\n",
       "1   2019-01-06\n",
       "2   2019-01-07\n",
       "3   2019-01-11\n",
       "4   2019-01-14\n",
       "Name: Fecha, dtype: datetime64[ns]"
      ]
     },
     "execution_count": 17,
     "metadata": {},
     "output_type": "execute_result"
    }
   ],
   "source": [
    "dataFrame['Fecha']= pd.to_datetime(dataFrame['Fecha'], format=\"%d/%m/%Y\")\n",
    "dataFrame['Fecha'].head()"
   ]
  },
  {
   "cell_type": "code",
   "execution_count": 18,
   "metadata": {},
   "outputs": [],
   "source": [
    "dataFrame[\"Canton\"]= dataFrame[\"Canton\"].astype(\"int\")"
   ]
  },
  {
   "cell_type": "code",
   "execution_count": 23,
   "metadata": {},
   "outputs": [],
   "source": [
    "#dataFrame[\"SubDelito\"]= dataFrame[\"SubDelito\"].astype(\"category\")\n",
    "#dataFrame[\"SubVictima\"]= dataFrame[\"SubVictima\"].astype(\"category\")\n",
    "#dataFrame[\"Edad\"]= dataFrame[\"Edad\"].astype(\"category\")\n",
    "#dataFrame[\"Genero\"]= dataFrame[\"Genero\"].astype(\"category\")\n",
    "#dataFrame[\"Nacionalidad\"]= dataFrame[\"Nacionalidad\"].astype(\"category\")\n",
    "#dataFrame[\"Canton\"]= dataFrame[\"Canton\"].astype(\"category\")\n",
    "\n",
    "#dataFrame[\"Victima\"]= dataFrame[\"Victima\"].astype(\"category\")\n",
    "#dataFrame[\"Delito\"]= dataFrame[\"Delito\"].astype(\"category\")\n",
    "#dataFrame[\"Provincia\"]= dataFrame[\"Provincia\"].astype(\"category\")"
   ]
  },
  {
   "cell_type": "code",
   "execution_count": 19,
   "metadata": {},
   "outputs": [
    {
     "data": {
      "text/plain": [
       "array([1, 2, 3, 4], dtype=int64)"
      ]
     },
     "execution_count": 19,
     "metadata": {},
     "output_type": "execute_result"
    }
   ],
   "source": [
    "# Las diferentes categorías de Edad se pasan a numérico\n",
    "dataFrame[\"Edad\"]= np.where(dataFrame[\"Edad\"] == \"Mayor de edad\", 1, dataFrame[\"Edad\"])\n",
    "dataFrame[\"Edad\"]= np.where(dataFrame[\"Edad\"] == 'Desconocido', 2, dataFrame[\"Edad\"])\n",
    "dataFrame[\"Edad\"]= np.where(dataFrame[\"Edad\"] == 'Adulto Mayor', 3, dataFrame[\"Edad\"])\n",
    "dataFrame[\"Edad\"]= np.where(dataFrame[\"Edad\"] == 'Menor de edad', 4, dataFrame[\"Edad\"])\n",
    "\n",
    "dataFrame[\"Edad\"]= dataFrame[\"Edad\"].astype(\"int\")\n",
    "dataFrame[\"Edad\"].unique() "
   ]
  },
  {
   "cell_type": "code",
   "execution_count": 20,
   "metadata": {},
   "outputs": [
    {
     "data": {
      "text/plain": [
       "array([1, 2, 3], dtype=int64)"
      ]
     },
     "execution_count": 20,
     "metadata": {},
     "output_type": "execute_result"
    }
   ],
   "source": [
    "dataFrame[\"Genero\"]= np.where(dataFrame[\"Genero\"] == \"HOMBRE\", 1, dataFrame[\"Genero\"])\n",
    "dataFrame[\"Genero\"]= np.where(dataFrame[\"Genero\"] == 'MUJER', 2, dataFrame[\"Genero\"])\n",
    "dataFrame[\"Genero\"]= np.where(dataFrame[\"Genero\"] == 'DESCONOCIDO', 3, dataFrame[\"Genero\"])\n",
    "dataFrame[\"Genero\"]= dataFrame[\"Genero\"].astype(\"int\")\n",
    "dataFrame[\"Genero\"].unique() "
   ]
  },
  {
   "cell_type": "code",
   "execution_count": 21,
   "metadata": {},
   "outputs": [
    {
     "data": {
      "text/html": [
       "<div>\n",
       "<style scoped>\n",
       "    .dataframe tbody tr th:only-of-type {\n",
       "        vertical-align: middle;\n",
       "    }\n",
       "\n",
       "    .dataframe tbody tr th {\n",
       "        vertical-align: top;\n",
       "    }\n",
       "\n",
       "    .dataframe thead th {\n",
       "        text-align: right;\n",
       "    }\n",
       "</style>\n",
       "<table border=\"1\" class=\"dataframe\">\n",
       "  <thead>\n",
       "    <tr style=\"text-align: right;\">\n",
       "      <th></th>\n",
       "      <th>Delito</th>\n",
       "      <th>SubDelito</th>\n",
       "      <th>Fecha</th>\n",
       "      <th>Hora</th>\n",
       "      <th>Victima</th>\n",
       "      <th>SubVictima</th>\n",
       "      <th>Edad</th>\n",
       "      <th>Genero</th>\n",
       "      <th>Nacionalidad</th>\n",
       "      <th>Provincia</th>\n",
       "      <th>Canton</th>\n",
       "    </tr>\n",
       "  </thead>\n",
       "  <tbody>\n",
       "    <tr>\n",
       "      <th>0</th>\n",
       "      <td>1</td>\n",
       "      <td>5</td>\n",
       "      <td>2019-01-01</td>\n",
       "      <td>06:00:00 - 08:59:59</td>\n",
       "      <td>1</td>\n",
       "      <td>1</td>\n",
       "      <td>1</td>\n",
       "      <td>1</td>\n",
       "      <td>1</td>\n",
       "      <td>1</td>\n",
       "      <td>31</td>\n",
       "    </tr>\n",
       "    <tr>\n",
       "      <th>1</th>\n",
       "      <td>1</td>\n",
       "      <td>5</td>\n",
       "      <td>2019-01-06</td>\n",
       "      <td>18:00:00 - 20:59:59</td>\n",
       "      <td>1</td>\n",
       "      <td>4</td>\n",
       "      <td>1</td>\n",
       "      <td>1</td>\n",
       "      <td>1</td>\n",
       "      <td>1</td>\n",
       "      <td>1</td>\n",
       "    </tr>\n",
       "    <tr>\n",
       "      <th>2</th>\n",
       "      <td>1</td>\n",
       "      <td>5</td>\n",
       "      <td>2019-01-07</td>\n",
       "      <td>09:00:00 - 11:59:59</td>\n",
       "      <td>1</td>\n",
       "      <td>1</td>\n",
       "      <td>1</td>\n",
       "      <td>2</td>\n",
       "      <td>2</td>\n",
       "      <td>1</td>\n",
       "      <td>1</td>\n",
       "    </tr>\n",
       "    <tr>\n",
       "      <th>3</th>\n",
       "      <td>1</td>\n",
       "      <td>5</td>\n",
       "      <td>2019-01-11</td>\n",
       "      <td>09:00:00 - 11:59:59</td>\n",
       "      <td>2</td>\n",
       "      <td>15</td>\n",
       "      <td>1</td>\n",
       "      <td>1</td>\n",
       "      <td>1</td>\n",
       "      <td>2</td>\n",
       "      <td>2</td>\n",
       "    </tr>\n",
       "    <tr>\n",
       "      <th>4</th>\n",
       "      <td>1</td>\n",
       "      <td>5</td>\n",
       "      <td>2019-01-14</td>\n",
       "      <td>18:00:00 - 20:59:59</td>\n",
       "      <td>1</td>\n",
       "      <td>1</td>\n",
       "      <td>1</td>\n",
       "      <td>1</td>\n",
       "      <td>1</td>\n",
       "      <td>1</td>\n",
       "      <td>25</td>\n",
       "    </tr>\n",
       "  </tbody>\n",
       "</table>\n",
       "</div>"
      ],
      "text/plain": [
       "   Delito  SubDelito      Fecha                 Hora  Victima  SubVictima  \\\n",
       "0       1          5 2019-01-01  06:00:00 - 08:59:59        1           1   \n",
       "1       1          5 2019-01-06  18:00:00 - 20:59:59        1           4   \n",
       "2       1          5 2019-01-07  09:00:00 - 11:59:59        1           1   \n",
       "3       1          5 2019-01-11  09:00:00 - 11:59:59        2          15   \n",
       "4       1          5 2019-01-14  18:00:00 - 20:59:59        1           1   \n",
       "\n",
       "   Edad  Genero  Nacionalidad  Provincia  Canton  \n",
       "0     1       1             1          1      31  \n",
       "1     1       1             1          1       1  \n",
       "2     1       2             2          1       1  \n",
       "3     1       1             1          2       2  \n",
       "4     1       1             1          1      25  "
      ]
     },
     "execution_count": 21,
     "metadata": {},
     "output_type": "execute_result"
    }
   ],
   "source": [
    "dataFrame.head()"
   ]
  },
  {
   "cell_type": "code",
   "execution_count": 22,
   "metadata": {},
   "outputs": [
    {
     "name": "stdout",
     "output_type": "stream",
     "text": [
      "<class 'pandas.core.frame.DataFrame'>\n",
      "RangeIndex: 71744 entries, 0 to 71743\n",
      "Data columns (total 11 columns):\n",
      "Delito          71744 non-null int32\n",
      "SubDelito       71744 non-null int64\n",
      "Fecha           71744 non-null datetime64[ns]\n",
      "Hora            71744 non-null object\n",
      "Victima         71744 non-null int32\n",
      "SubVictima      71744 non-null int64\n",
      "Edad            71744 non-null int32\n",
      "Genero          71744 non-null int32\n",
      "Nacionalidad    71744 non-null int64\n",
      "Provincia       71744 non-null int32\n",
      "Canton          71744 non-null int32\n",
      "dtypes: datetime64[ns](1), int32(6), int64(3), object(1)\n",
      "memory usage: 4.4+ MB\n"
     ]
    }
   ],
   "source": [
    "dataFrame.info()"
   ]
  },
  {
   "cell_type": "code",
   "execution_count": 23,
   "metadata": {},
   "outputs": [
    {
     "data": {
      "text/html": [
       "<div>\n",
       "<style scoped>\n",
       "    .dataframe tbody tr th:only-of-type {\n",
       "        vertical-align: middle;\n",
       "    }\n",
       "\n",
       "    .dataframe tbody tr th {\n",
       "        vertical-align: top;\n",
       "    }\n",
       "\n",
       "    .dataframe thead th {\n",
       "        text-align: right;\n",
       "    }\n",
       "</style>\n",
       "<table border=\"1\" class=\"dataframe\">\n",
       "  <thead>\n",
       "    <tr style=\"text-align: right;\">\n",
       "      <th></th>\n",
       "      <th>Delito</th>\n",
       "      <th>SubDelito</th>\n",
       "      <th>Victima</th>\n",
       "      <th>SubVictima</th>\n",
       "      <th>Edad</th>\n",
       "      <th>Genero</th>\n",
       "      <th>Nacionalidad</th>\n",
       "      <th>Provincia</th>\n",
       "      <th>Canton</th>\n",
       "    </tr>\n",
       "  </thead>\n",
       "  <tbody>\n",
       "    <tr>\n",
       "      <th>count</th>\n",
       "      <td>71744.000000</td>\n",
       "      <td>71744.000000</td>\n",
       "      <td>71744.000000</td>\n",
       "      <td>71744.000000</td>\n",
       "      <td>71744.000000</td>\n",
       "      <td>71744.000000</td>\n",
       "      <td>71744.000000</td>\n",
       "      <td>71744.000000</td>\n",
       "      <td>71744.000000</td>\n",
       "    </tr>\n",
       "    <tr>\n",
       "      <th>mean</th>\n",
       "      <td>2.976500</td>\n",
       "      <td>6.898389</td>\n",
       "      <td>2.228423</td>\n",
       "      <td>8.759813</td>\n",
       "      <td>1.274922</td>\n",
       "      <td>1.430977</td>\n",
       "      <td>1.893385</td>\n",
       "      <td>3.068103</td>\n",
       "      <td>18.280734</td>\n",
       "    </tr>\n",
       "    <tr>\n",
       "      <th>std</th>\n",
       "      <td>1.569054</td>\n",
       "      <td>6.467751</td>\n",
       "      <td>1.262461</td>\n",
       "      <td>12.122934</td>\n",
       "      <td>0.714792</td>\n",
       "      <td>0.560418</td>\n",
       "      <td>3.337448</td>\n",
       "      <td>2.163183</td>\n",
       "      <td>18.623012</td>\n",
       "    </tr>\n",
       "    <tr>\n",
       "      <th>min</th>\n",
       "      <td>1.000000</td>\n",
       "      <td>1.000000</td>\n",
       "      <td>1.000000</td>\n",
       "      <td>1.000000</td>\n",
       "      <td>1.000000</td>\n",
       "      <td>1.000000</td>\n",
       "      <td>1.000000</td>\n",
       "      <td>1.000000</td>\n",
       "      <td>1.000000</td>\n",
       "    </tr>\n",
       "    <tr>\n",
       "      <th>25%</th>\n",
       "      <td>1.000000</td>\n",
       "      <td>2.000000</td>\n",
       "      <td>1.000000</td>\n",
       "      <td>2.000000</td>\n",
       "      <td>1.000000</td>\n",
       "      <td>1.000000</td>\n",
       "      <td>1.000000</td>\n",
       "      <td>1.000000</td>\n",
       "      <td>3.000000</td>\n",
       "    </tr>\n",
       "    <tr>\n",
       "      <th>50%</th>\n",
       "      <td>3.000000</td>\n",
       "      <td>4.000000</td>\n",
       "      <td>2.000000</td>\n",
       "      <td>3.000000</td>\n",
       "      <td>1.000000</td>\n",
       "      <td>1.000000</td>\n",
       "      <td>1.000000</td>\n",
       "      <td>2.000000</td>\n",
       "      <td>12.000000</td>\n",
       "    </tr>\n",
       "    <tr>\n",
       "      <th>75%</th>\n",
       "      <td>4.000000</td>\n",
       "      <td>10.000000</td>\n",
       "      <td>3.000000</td>\n",
       "      <td>10.000000</td>\n",
       "      <td>1.000000</td>\n",
       "      <td>2.000000</td>\n",
       "      <td>1.000000</td>\n",
       "      <td>5.000000</td>\n",
       "      <td>29.000000</td>\n",
       "    </tr>\n",
       "    <tr>\n",
       "      <th>max</th>\n",
       "      <td>6.000000</td>\n",
       "      <td>34.000000</td>\n",
       "      <td>5.000000</td>\n",
       "      <td>65.000000</td>\n",
       "      <td>4.000000</td>\n",
       "      <td>3.000000</td>\n",
       "      <td>26.000000</td>\n",
       "      <td>9.000000</td>\n",
       "      <td>73.000000</td>\n",
       "    </tr>\n",
       "  </tbody>\n",
       "</table>\n",
       "</div>"
      ],
      "text/plain": [
       "             Delito     SubDelito       Victima    SubVictima          Edad  \\\n",
       "count  71744.000000  71744.000000  71744.000000  71744.000000  71744.000000   \n",
       "mean       2.976500      6.898389      2.228423      8.759813      1.274922   \n",
       "std        1.569054      6.467751      1.262461     12.122934      0.714792   \n",
       "min        1.000000      1.000000      1.000000      1.000000      1.000000   \n",
       "25%        1.000000      2.000000      1.000000      2.000000      1.000000   \n",
       "50%        3.000000      4.000000      2.000000      3.000000      1.000000   \n",
       "75%        4.000000     10.000000      3.000000     10.000000      1.000000   \n",
       "max        6.000000     34.000000      5.000000     65.000000      4.000000   \n",
       "\n",
       "             Genero  Nacionalidad     Provincia        Canton  \n",
       "count  71744.000000  71744.000000  71744.000000  71744.000000  \n",
       "mean       1.430977      1.893385      3.068103     18.280734  \n",
       "std        0.560418      3.337448      2.163183     18.623012  \n",
       "min        1.000000      1.000000      1.000000      1.000000  \n",
       "25%        1.000000      1.000000      1.000000      3.000000  \n",
       "50%        1.000000      1.000000      2.000000     12.000000  \n",
       "75%        2.000000      1.000000      5.000000     29.000000  \n",
       "max        3.000000     26.000000      9.000000     73.000000  "
      ]
     },
     "execution_count": 23,
     "metadata": {},
     "output_type": "execute_result"
    }
   ],
   "source": [
    "dataFrame.describe()"
   ]
  },
  {
   "cell_type": "markdown",
   "metadata": {},
   "source": [
    "## Visualización de datos"
   ]
  },
  {
   "cell_type": "markdown",
   "metadata": {},
   "source": [
    "En esta sección se presentan gráficos de las diferentes variables"
   ]
  },
  {
   "cell_type": "code",
   "execution_count": 43,
   "metadata": {},
   "outputs": [
    {
     "data": {
      "image/png": "[encoded data removed]",
      "text/plain": [
       "<Figure size 432x288 with 1 Axes>"
      ]
     },
     "metadata": {},
     "output_type": "display_data"
    }
   ],
   "source": [
    "# se grafica Delito\n",
    "plt.hist(dataFrame[\"Delito\"])\n",
    "plt.show()"
   ]
  },
  {
   "cell_type": "code",
   "execution_count": 42,
   "metadata": {},
   "outputs": [
    {
     "data": {
      "text/plain": [
       "[Text(0,0,'HURTO'),\n",
       " Text(0,0,'ASALTO'),\n",
       " Text(0,0,'ROBO'),\n",
       " Text(0,0,'TACHA VEHICULO'),\n",
       " Text(0,0,'ROBO VEHICULO'),\n",
       " Text(0,0,'HOMICIDIO')]"
      ]
     },
     "execution_count": 42,
     "metadata": {},
     "output_type": "execute_result"
    },
    {
     "data": {
      "image/png": "[encoded data removed]",
      "text/plain": [
       "<Figure size 432x288 with 1 Axes>"
      ]
     },
     "metadata": {},
     "output_type": "display_data"
    }
   ],
   "source": [
    "Educ_plot = dataFrame[\"Delito\"].value_counts()\n",
    "Educ_plot = Educ_plot.plot(kind='bar')\n",
    "\n",
    "Educ_plot.set_ylabel('Cantidad de Delitos')\n",
    "Educ_plot.set_title('Delitos cometidos en el 2019')\n",
    "#Educ_plot.set_xticks(10)\n",
    "Educ_plot.set_xticklabels( ('HURTO', 'ASALTO','ROBO','TACHA VEHICULO','ROBO VEHICULO','HOMICIDIO') )"
   ]
  },
  {
   "cell_type": "code",
   "execution_count": 45,
   "metadata": {},
   "outputs": [
    {
     "data": {
      "image/png": "[encoded data removed]",
      "text/plain": [
       "<Figure size 432x288 with 1 Axes>"
      ]
     },
     "metadata": {},
     "output_type": "display_data"
    }
   ],
   "source": [
    "# se grafica Victima\n",
    "plt.hist(dataFrame[\"Victima\"])\n",
    "plt.show()"
   ]
  },
  {
   "cell_type": "code",
   "execution_count": 51,
   "metadata": {},
   "outputs": [
    {
     "data": {
      "text/plain": [
       "[Text(0,0,'Persona'),\n",
       " Text(0,0,'Vehículo'),\n",
       " Text(0,0,'Vivienda'),\n",
       " Text(0,0,'Edificación'),\n",
       " Text(0,0,'Otros')]"
      ]
     },
     "execution_count": 51,
     "metadata": {},
     "output_type": "execute_result"
    },
    {
     "data": {
      "image/png": "[encoded data removed]",
      "text/plain": [
       "<Figure size 432x288 with 1 Axes>"
      ]
     },
     "metadata": {},
     "output_type": "display_data"
    }
   ],
   "source": [
    "Educ_plot = dataFrame[\"Victima\"].value_counts()\n",
    "Educ_plot = Educ_plot.plot(kind='bar')\n",
    "\n",
    "Educ_plot.set_ylabel('Cantidad de Víctimas')\n",
    "Educ_plot.set_title('Victimas de los Delitos cometidos en el 2019')\n",
    "Educ_plot.set_xticklabels( ('Persona', 'Vehículo','Vivienda','Edificación','Otros') )"
   ]
  },
  {
   "cell_type": "code",
   "execution_count": null,
   "metadata": {},
   "outputs": [],
   "source": [
    "# se grafica Provincia\n",
    "plt.hist(dataFrame[\"Provincia\"])\n",
    "plt.show()"
   ]
  },
  {
   "cell_type": "code",
   "execution_count": 53,
   "metadata": {},
   "outputs": [
    {
     "data": {
      "text/plain": [
       "[Text(0,0,'San José'),\n",
       " Text(0,0,'Alajuela'),\n",
       " Text(0,0,'Puntarenas'),\n",
       " Text(0,0,'Limón'),\n",
       " Text(0,0,'Heredia'),\n",
       " Text(0,0,'Guanacaste'),\n",
       " Text(0,0,'Cartago'),\n",
       " Text(0,0,'Republica'),\n",
       " Text(0,0,'Desconocido')]"
      ]
     },
     "execution_count": 53,
     "metadata": {},
     "output_type": "execute_result"
    },
    {
     "data": {
      "image/png": "[encoded data removed]",
      "text/plain": [
       "<Figure size 432x288 with 1 Axes>"
      ]
     },
     "metadata": {},
     "output_type": "display_data"
    }
   ],
   "source": [
    "Educ_plot = dataFrame[\"Provincia\"].value_counts()\n",
    "Educ_plot = Educ_plot.plot(kind='bar')\n",
    "\n",
    "Educ_plot.set_ylabel('Cantidad de Delitos')\n",
    "Educ_plot.set_title('Delitos cometidos en el 2019 por Provincia')\n",
    "Educ_plot.set_xticklabels( ('San José', 'Alajuela','Puntarenas','Limón','Heredia','Guanacaste','Cartago','Republica','Desconocido') )"
   ]
  },
  {
   "cell_type": "code",
   "execution_count": 50,
   "metadata": {},
   "outputs": [
    {
     "data": {
      "text/plain": [
       "Text(0.5,1,'Delitos cometidos por fraja horaria')"
      ]
     },
     "execution_count": 50,
     "metadata": {},
     "output_type": "execute_result"
    },
    {
     "data": {
      "image/png": "[encoded data removed]",
      "text/plain": [
       "<Figure size 432x288 with 1 Axes>"
      ]
     },
     "metadata": {},
     "output_type": "display_data"
    }
   ],
   "source": [
    "Educ_plot = dataFrame[\"Hora\"].value_counts()\n",
    "Educ_plot = Educ_plot.plot(kind='bar')\n",
    "\n",
    "Educ_plot.set_ylabel('Cantidad de Delitos')\n",
    "Educ_plot.set_title('Delitos cometidos por fraja horaria')\n",
    "#Educ_plot.set_xticks(10)\n",
    "#Educ_plot.set_xticklabels( ('HURTO', 'ASALTO','ROBO','TACHA VEHICULO','ROBO VEHICULO','HOMICIDIO') )"
   ]
  },
  {
   "cell_type": "code",
   "execution_count": 61,
   "metadata": {},
   "outputs": [
    {
     "data": {
      "text/plain": [
       "<matplotlib.collections.PathCollection at 0x1a878fce5f8>"
      ]
     },
     "execution_count": 61,
     "metadata": {},
     "output_type": "execute_result"
    },
    {
     "data": {
      "image/png": "[encoded data removed]",
      "text/plain": [
       "<Figure size 432x288 with 2 Axes>"
      ]
     },
     "metadata": {},
     "output_type": "display_data"
    }
   ],
   "source": [
    "\n",
    "x = dataFrame[\"Provincia\"]\n",
    "y = dataFrame[\"Genero\"]\n",
    "\n",
    "# Two subplots, the axes array is 1-d\n",
    "f, axarr = plt.subplots(2, sharex=True)\n",
    "axarr[0].plot(x, y)\n",
    "axarr[0].set_title('Sharing X axis')\n",
    "axarr[1].scatter(x, y)"
   ]
  },
  {
   "cell_type": "code",
   "execution_count": 38,
   "metadata": {},
   "outputs": [
    {
     "name": "stdout",
     "output_type": "stream",
     "text": [
      "2019-12-01 00:00:00\n",
      "2019-12-31 00:00:00\n"
     ]
    },
    {
     "data": {
      "text/html": [
       "<div>\n",
       "<style scoped>\n",
       "    .dataframe tbody tr th:only-of-type {\n",
       "        vertical-align: middle;\n",
       "    }\n",
       "\n",
       "    .dataframe tbody tr th {\n",
       "        vertical-align: top;\n",
       "    }\n",
       "\n",
       "    .dataframe thead th {\n",
       "        text-align: right;\n",
       "    }\n",
       "</style>\n",
       "<table border=\"1\" class=\"dataframe\">\n",
       "  <thead>\n",
       "    <tr style=\"text-align: right;\">\n",
       "      <th></th>\n",
       "      <th>Delito</th>\n",
       "      <th>SubDelito</th>\n",
       "      <th>Fecha</th>\n",
       "      <th>Hora</th>\n",
       "      <th>Victima</th>\n",
       "      <th>SubVictima</th>\n",
       "      <th>Edad</th>\n",
       "      <th>Genero</th>\n",
       "      <th>Nacionalidad</th>\n",
       "      <th>Provincia</th>\n",
       "      <th>Canton</th>\n",
       "    </tr>\n",
       "  </thead>\n",
       "  <tbody>\n",
       "    <tr>\n",
       "      <th>1094</th>\n",
       "      <td>1</td>\n",
       "      <td>5</td>\n",
       "      <td>2019-12-02</td>\n",
       "      <td>09:00:00 - 11:59:59</td>\n",
       "      <td>1</td>\n",
       "      <td>1</td>\n",
       "      <td>1</td>\n",
       "      <td>1</td>\n",
       "      <td>1</td>\n",
       "      <td>1</td>\n",
       "      <td>1</td>\n",
       "    </tr>\n",
       "    <tr>\n",
       "      <th>1097</th>\n",
       "      <td>1</td>\n",
       "      <td>5</td>\n",
       "      <td>2019-12-05</td>\n",
       "      <td>00:00:00 - 02:59:59</td>\n",
       "      <td>4</td>\n",
       "      <td>2</td>\n",
       "      <td>4</td>\n",
       "      <td>2</td>\n",
       "      <td>1</td>\n",
       "      <td>6</td>\n",
       "      <td>29</td>\n",
       "    </tr>\n",
       "    <tr>\n",
       "      <th>1098</th>\n",
       "      <td>1</td>\n",
       "      <td>5</td>\n",
       "      <td>2019-12-02</td>\n",
       "      <td>21:00:00 - 23:59:59</td>\n",
       "      <td>1</td>\n",
       "      <td>1</td>\n",
       "      <td>1</td>\n",
       "      <td>1</td>\n",
       "      <td>1</td>\n",
       "      <td>4</td>\n",
       "      <td>12</td>\n",
       "    </tr>\n",
       "    <tr>\n",
       "      <th>1099</th>\n",
       "      <td>1</td>\n",
       "      <td>5</td>\n",
       "      <td>2019-12-05</td>\n",
       "      <td>21:00:00 - 23:59:59</td>\n",
       "      <td>2</td>\n",
       "      <td>15</td>\n",
       "      <td>1</td>\n",
       "      <td>1</td>\n",
       "      <td>1</td>\n",
       "      <td>1</td>\n",
       "      <td>1</td>\n",
       "    </tr>\n",
       "    <tr>\n",
       "      <th>1100</th>\n",
       "      <td>1</td>\n",
       "      <td>5</td>\n",
       "      <td>2019-12-04</td>\n",
       "      <td>00:00:00 - 02:59:59</td>\n",
       "      <td>1</td>\n",
       "      <td>1</td>\n",
       "      <td>1</td>\n",
       "      <td>1</td>\n",
       "      <td>1</td>\n",
       "      <td>7</td>\n",
       "      <td>49</td>\n",
       "    </tr>\n",
       "  </tbody>\n",
       "</table>\n",
       "</div>"
      ],
      "text/plain": [
       "      Delito  SubDelito      Fecha                 Hora  Victima  SubVictima  \\\n",
       "1094       1          5 2019-12-02  09:00:00 - 11:59:59        1           1   \n",
       "1097       1          5 2019-12-05  00:00:00 - 02:59:59        4           2   \n",
       "1098       1          5 2019-12-02  21:00:00 - 23:59:59        1           1   \n",
       "1099       1          5 2019-12-05  21:00:00 - 23:59:59        2          15   \n",
       "1100       1          5 2019-12-04  00:00:00 - 02:59:59        1           1   \n",
       "\n",
       "      Edad  Genero  Nacionalidad  Provincia  Canton  \n",
       "1094     1       1             1          1       1  \n",
       "1097     4       2             1          6      29  \n",
       "1098     1       1             1          4      12  \n",
       "1099     1       1             1          1       1  \n",
       "1100     1       1             1          7      49  "
      ]
     },
     "execution_count": 38,
     "metadata": {},
     "output_type": "execute_result"
    }
   ],
   "source": [
    "import datetime\n",
    "fecha_1 = datetime.datetime(2019, 12, 1)\n",
    "#fecha_1 = datetime.datetime.date(fecha_1)\n",
    "fecha_2 = datetime.datetime(2019, 12, 31)\n",
    "#fecha_2 = datetime.datetime.date(fecha_2)\n",
    "print(fecha_1)\n",
    "print(fecha_2)\n",
    "mask = (dataFrame['Fecha'] > fecha_1) & (dataFrame['Fecha'] <= fecha_2)\n",
    "fDic = dataFrame.loc[mask]    #dataFrame.loc[fecha_1:fecha_2 , ]\n",
    "fDic.head()"
   ]
  },
  {
   "cell_type": "code",
   "execution_count": 41,
   "metadata": {},
   "outputs": [
    {
     "name": "stdout",
     "output_type": "stream",
     "text": [
      "Cantidad de delitos en Diciembre:  Delito          4634\n",
      "SubDelito       4634\n",
      "Fecha           4634\n",
      "Hora            4634\n",
      "Victima         4634\n",
      "SubVictima      4634\n",
      "Edad            4634\n",
      "Genero          4634\n",
      "Nacionalidad    4634\n",
      "Provincia       4634\n",
      "Canton          4634\n",
      "dtype: int64\n"
     ]
    }
   ],
   "source": [
    "print(\"Cantidad de delitos en Diciembre: \", fDic.count())"
   ]
  },
  {
   "cell_type": "code",
   "execution_count": 42,
   "metadata": {},
   "outputs": [
    {
     "data": {
      "text/html": [
       "<div>\n",
       "<style scoped>\n",
       "    .dataframe tbody tr th:only-of-type {\n",
       "        vertical-align: middle;\n",
       "    }\n",
       "\n",
       "    .dataframe tbody tr th {\n",
       "        vertical-align: top;\n",
       "    }\n",
       "\n",
       "    .dataframe thead th {\n",
       "        text-align: right;\n",
       "    }\n",
       "</style>\n",
       "<table border=\"1\" class=\"dataframe\">\n",
       "  <thead>\n",
       "    <tr style=\"text-align: right;\">\n",
       "      <th></th>\n",
       "      <th>Delito</th>\n",
       "      <th>SubDelito</th>\n",
       "      <th>Victima</th>\n",
       "      <th>SubVictima</th>\n",
       "      <th>Edad</th>\n",
       "      <th>Genero</th>\n",
       "      <th>Nacionalidad</th>\n",
       "      <th>Provincia</th>\n",
       "      <th>Canton</th>\n",
       "    </tr>\n",
       "  </thead>\n",
       "  <tbody>\n",
       "    <tr>\n",
       "      <th>count</th>\n",
       "      <td>4634.000000</td>\n",
       "      <td>4634.000000</td>\n",
       "      <td>4634.000000</td>\n",
       "      <td>4634.000000</td>\n",
       "      <td>4634.000000</td>\n",
       "      <td>4634.000000</td>\n",
       "      <td>4634.000000</td>\n",
       "      <td>4634.000000</td>\n",
       "      <td>4634.000000</td>\n",
       "    </tr>\n",
       "    <tr>\n",
       "      <th>mean</th>\n",
       "      <td>2.975615</td>\n",
       "      <td>6.875701</td>\n",
       "      <td>2.178032</td>\n",
       "      <td>8.577902</td>\n",
       "      <td>1.242123</td>\n",
       "      <td>1.429003</td>\n",
       "      <td>1.991584</td>\n",
       "      <td>3.136167</td>\n",
       "      <td>18.012085</td>\n",
       "    </tr>\n",
       "    <tr>\n",
       "      <th>std</th>\n",
       "      <td>1.511610</td>\n",
       "      <td>6.538673</td>\n",
       "      <td>1.256464</td>\n",
       "      <td>12.017797</td>\n",
       "      <td>0.658724</td>\n",
       "      <td>0.572245</td>\n",
       "      <td>3.686585</td>\n",
       "      <td>2.184214</td>\n",
       "      <td>18.467274</td>\n",
       "    </tr>\n",
       "    <tr>\n",
       "      <th>min</th>\n",
       "      <td>1.000000</td>\n",
       "      <td>1.000000</td>\n",
       "      <td>1.000000</td>\n",
       "      <td>1.000000</td>\n",
       "      <td>1.000000</td>\n",
       "      <td>1.000000</td>\n",
       "      <td>1.000000</td>\n",
       "      <td>1.000000</td>\n",
       "      <td>1.000000</td>\n",
       "    </tr>\n",
       "    <tr>\n",
       "      <th>25%</th>\n",
       "      <td>1.000000</td>\n",
       "      <td>2.000000</td>\n",
       "      <td>1.000000</td>\n",
       "      <td>2.000000</td>\n",
       "      <td>1.000000</td>\n",
       "      <td>1.000000</td>\n",
       "      <td>1.000000</td>\n",
       "      <td>1.000000</td>\n",
       "      <td>3.000000</td>\n",
       "    </tr>\n",
       "    <tr>\n",
       "      <th>50%</th>\n",
       "      <td>3.000000</td>\n",
       "      <td>5.000000</td>\n",
       "      <td>2.000000</td>\n",
       "      <td>3.000000</td>\n",
       "      <td>1.000000</td>\n",
       "      <td>1.000000</td>\n",
       "      <td>1.000000</td>\n",
       "      <td>2.000000</td>\n",
       "      <td>12.000000</td>\n",
       "    </tr>\n",
       "    <tr>\n",
       "      <th>75%</th>\n",
       "      <td>4.000000</td>\n",
       "      <td>10.000000</td>\n",
       "      <td>3.000000</td>\n",
       "      <td>10.000000</td>\n",
       "      <td>1.000000</td>\n",
       "      <td>2.000000</td>\n",
       "      <td>1.000000</td>\n",
       "      <td>5.000000</td>\n",
       "      <td>28.750000</td>\n",
       "    </tr>\n",
       "    <tr>\n",
       "      <th>max</th>\n",
       "      <td>6.000000</td>\n",
       "      <td>34.000000</td>\n",
       "      <td>5.000000</td>\n",
       "      <td>65.000000</td>\n",
       "      <td>4.000000</td>\n",
       "      <td>3.000000</td>\n",
       "      <td>26.000000</td>\n",
       "      <td>9.000000</td>\n",
       "      <td>73.000000</td>\n",
       "    </tr>\n",
       "  </tbody>\n",
       "</table>\n",
       "</div>"
      ],
      "text/plain": [
       "            Delito    SubDelito      Victima   SubVictima         Edad  \\\n",
       "count  4634.000000  4634.000000  4634.000000  4634.000000  4634.000000   \n",
       "mean      2.975615     6.875701     2.178032     8.577902     1.242123   \n",
       "std       1.511610     6.538673     1.256464    12.017797     0.658724   \n",
       "min       1.000000     1.000000     1.000000     1.000000     1.000000   \n",
       "25%       1.000000     2.000000     1.000000     2.000000     1.000000   \n",
       "50%       3.000000     5.000000     2.000000     3.000000     1.000000   \n",
       "75%       4.000000    10.000000     3.000000    10.000000     1.000000   \n",
       "max       6.000000    34.000000     5.000000    65.000000     4.000000   \n",
       "\n",
       "            Genero  Nacionalidad    Provincia       Canton  \n",
       "count  4634.000000   4634.000000  4634.000000  4634.000000  \n",
       "mean      1.429003      1.991584     3.136167    18.012085  \n",
       "std       0.572245      3.686585     2.184214    18.467274  \n",
       "min       1.000000      1.000000     1.000000     1.000000  \n",
       "25%       1.000000      1.000000     1.000000     3.000000  \n",
       "50%       1.000000      1.000000     2.000000    12.000000  \n",
       "75%       2.000000      1.000000     5.000000    28.750000  \n",
       "max       3.000000     26.000000     9.000000    73.000000  "
      ]
     },
     "execution_count": 42,
     "metadata": {},
     "output_type": "execute_result"
    }
   ],
   "source": [
    "fDic.describe()"
   ]
  },
  {
   "cell_type": "code",
   "execution_count": 43,
   "metadata": {},
   "outputs": [
    {
     "ename": "TypeError",
     "evalue": "Cannot convert input [0       2019-01-01\n1       2019-01-06\n2       2019-01-07\n3       2019-01-11\n4       2019-01-14\n5       2019-01-15\n6       2019-01-15\n7       2019-01-18\n8       2019-01-19\n9       2019-01-19\n10      2019-01-19\n11      2019-01-20\n12      2019-01-22\n13      2019-01-26\n14      2019-01-28\n15      2019-01-29\n16      2019-01-24\n17      2019-01-28\n18      2019-02-02\n19      2019-01-28\n20      2019-01-28\n21      2019-02-03\n22      2019-02-04\n23      2019-02-05\n24      2019-02-07\n25      2019-02-09\n26      2019-02-09\n27      2019-02-11\n28      2019-02-11\n29      2019-02-11\n           ...    \n71714   2020-02-19\n71715   2020-02-22\n71716   2020-02-22\n71717   2020-02-22\n71718   2020-02-24\n71719   2020-02-24\n71720   2020-02-22\n71721   2020-02-28\n71722   2020-02-29\n71723   2020-03-01\n71724   2020-02-29\n71725   2020-02-26\n71726   2020-02-28\n71727   2020-03-03\n71728   2020-03-04\n71729   2020-03-06\n71730   2020-03-07\n71731   2020-02-22\n71732   2020-03-09\n71733   2020-03-06\n71734   2020-03-10\n71735   2020-03-11\n71736   2020-03-13\n71737   2020-03-13\n71738   2020-03-14\n71739   2020-03-14\n71740   2020-03-16\n71741   2020-03-17\n71742   2020-03-18\n71743   2020-03-17\nName: Fecha, Length: 71744, dtype: datetime64[ns]] of type <class 'pandas.core.series.Series'> to Timestamp",
     "output_type": "error",
     "traceback": [
      "\u001b[1;31m---------------------------------------------------------------------------\u001b[0m",
      "\u001b[1;31mTypeError\u001b[0m                                 Traceback (most recent call last)",
      "\u001b[1;32m<ipython-input-43-78a6abcddd97>\u001b[0m in \u001b[0;36m<module>\u001b[1;34m()\u001b[0m\n\u001b[1;32m----> 1\u001b[1;33m \u001b[0mdti\u001b[0m \u001b[1;33m=\u001b[0m \u001b[0mpd\u001b[0m\u001b[1;33m.\u001b[0m\u001b[0mdate_range\u001b[0m\u001b[1;33m(\u001b[0m\u001b[0mdataFrame\u001b[0m\u001b[1;33m[\u001b[0m\u001b[1;34m'Fecha'\u001b[0m\u001b[1;33m]\u001b[0m\u001b[1;33m,\u001b[0m \u001b[0mperiods\u001b[0m\u001b[1;33m=\u001b[0m\u001b[1;36m2\u001b[0m\u001b[1;33m,\u001b[0m \u001b[0mfreq\u001b[0m\u001b[1;33m=\u001b[0m\u001b[1;34m'M'\u001b[0m\u001b[1;33m)\u001b[0m\u001b[1;33m\u001b[0m\u001b[0m\n\u001b[0m",
      "\u001b[1;32m~\\Anaconda3\\lib\\site-packages\\pandas\\core\\indexes\\datetimes.py\u001b[0m in \u001b[0;36mdate_range\u001b[1;34m(start, end, periods, freq, tz, normalize, name, closed, **kwargs)\u001b[0m\n\u001b[0;32m   2729\u001b[0m     return DatetimeIndex(start=start, end=end, periods=periods,\n\u001b[0;32m   2730\u001b[0m                          \u001b[0mfreq\u001b[0m\u001b[1;33m=\u001b[0m\u001b[0mfreq\u001b[0m\u001b[1;33m,\u001b[0m \u001b[0mtz\u001b[0m\u001b[1;33m=\u001b[0m\u001b[0mtz\u001b[0m\u001b[1;33m,\u001b[0m \u001b[0mnormalize\u001b[0m\u001b[1;33m=\u001b[0m\u001b[0mnormalize\u001b[0m\u001b[1;33m,\u001b[0m \u001b[0mname\u001b[0m\u001b[1;33m=\u001b[0m\u001b[0mname\u001b[0m\u001b[1;33m,\u001b[0m\u001b[1;33m\u001b[0m\u001b[0m\n\u001b[1;32m-> 2731\u001b[1;33m                          closed=closed, **kwargs)\n\u001b[0m\u001b[0;32m   2732\u001b[0m \u001b[1;33m\u001b[0m\u001b[0m\n\u001b[0;32m   2733\u001b[0m \u001b[1;33m\u001b[0m\u001b[0m\n",
      "\u001b[1;32m~\\Anaconda3\\lib\\site-packages\\pandas\\core\\indexes\\datetimes.py\u001b[0m in \u001b[0;36m__new__\u001b[1;34m(cls, data, freq, start, end, periods, tz, normalize, closed, ambiguous, dayfirst, yearfirst, dtype, copy, name, verify_integrity)\u001b[0m\n\u001b[0;32m    379\u001b[0m                 return cls._generate(start, end, periods, name, freq, tz=tz,\n\u001b[0;32m    380\u001b[0m                                      \u001b[0mnormalize\u001b[0m\u001b[1;33m=\u001b[0m\u001b[0mnormalize\u001b[0m\u001b[1;33m,\u001b[0m \u001b[0mclosed\u001b[0m\u001b[1;33m=\u001b[0m\u001b[0mclosed\u001b[0m\u001b[1;33m,\u001b[0m\u001b[1;33m\u001b[0m\u001b[0m\n\u001b[1;32m--> 381\u001b[1;33m                                      ambiguous=ambiguous)\n\u001b[0m\u001b[0;32m    382\u001b[0m \u001b[1;33m\u001b[0m\u001b[0m\n\u001b[0;32m    383\u001b[0m         \u001b[1;32mif\u001b[0m \u001b[1;32mnot\u001b[0m \u001b[0misinstance\u001b[0m\u001b[1;33m(\u001b[0m\u001b[0mdata\u001b[0m\u001b[1;33m,\u001b[0m \u001b[1;33m(\u001b[0m\u001b[0mnp\u001b[0m\u001b[1;33m.\u001b[0m\u001b[0mndarray\u001b[0m\u001b[1;33m,\u001b[0m \u001b[0mIndex\u001b[0m\u001b[1;33m,\u001b[0m \u001b[0mABCSeries\u001b[0m\u001b[1;33m)\u001b[0m\u001b[1;33m)\u001b[0m\u001b[1;33m:\u001b[0m\u001b[1;33m\u001b[0m\u001b[0m\n",
      "\u001b[1;32m~\\Anaconda3\\lib\\site-packages\\pandas\\core\\indexes\\datetimes.py\u001b[0m in \u001b[0;36m_generate\u001b[1;34m(cls, start, end, periods, name, freq, tz, normalize, ambiguous, closed)\u001b[0m\n\u001b[0;32m    474\u001b[0m \u001b[1;33m\u001b[0m\u001b[0m\n\u001b[0;32m    475\u001b[0m         \u001b[1;32mif\u001b[0m \u001b[0mstart\u001b[0m \u001b[1;32mis\u001b[0m \u001b[1;32mnot\u001b[0m \u001b[1;32mNone\u001b[0m\u001b[1;33m:\u001b[0m\u001b[1;33m\u001b[0m\u001b[0m\n\u001b[1;32m--> 476\u001b[1;33m             \u001b[0mstart\u001b[0m \u001b[1;33m=\u001b[0m \u001b[0mTimestamp\u001b[0m\u001b[1;33m(\u001b[0m\u001b[0mstart\u001b[0m\u001b[1;33m)\u001b[0m\u001b[1;33m\u001b[0m\u001b[0m\n\u001b[0m\u001b[0;32m    477\u001b[0m \u001b[1;33m\u001b[0m\u001b[0m\n\u001b[0;32m    478\u001b[0m         \u001b[1;32mif\u001b[0m \u001b[0mend\u001b[0m \u001b[1;32mis\u001b[0m \u001b[1;32mnot\u001b[0m \u001b[1;32mNone\u001b[0m\u001b[1;33m:\u001b[0m\u001b[1;33m\u001b[0m\u001b[0m\n",
      "\u001b[1;32mpandas\\_libs\\tslibs\\timestamps.pyx\u001b[0m in \u001b[0;36mpandas._libs.tslibs.timestamps.Timestamp.__new__\u001b[1;34m()\u001b[0m\n",
      "\u001b[1;32mpandas\\_libs\\tslibs\\conversion.pyx\u001b[0m in \u001b[0;36mpandas._libs.tslibs.conversion.convert_to_tsobject\u001b[1;34m()\u001b[0m\n",
      "\u001b[1;31mTypeError\u001b[0m: Cannot convert input [0       2019-01-01\n1       2019-01-06\n2       2019-01-07\n3       2019-01-11\n4       2019-01-14\n5       2019-01-15\n6       2019-01-15\n7       2019-01-18\n8       2019-01-19\n9       2019-01-19\n10      2019-01-19\n11      2019-01-20\n12      2019-01-22\n13      2019-01-26\n14      2019-01-28\n15      2019-01-29\n16      2019-01-24\n17      2019-01-28\n18      2019-02-02\n19      2019-01-28\n20      2019-01-28\n21      2019-02-03\n22      2019-02-04\n23      2019-02-05\n24      2019-02-07\n25      2019-02-09\n26      2019-02-09\n27      2019-02-11\n28      2019-02-11\n29      2019-02-11\n           ...    \n71714   2020-02-19\n71715   2020-02-22\n71716   2020-02-22\n71717   2020-02-22\n71718   2020-02-24\n71719   2020-02-24\n71720   2020-02-22\n71721   2020-02-28\n71722   2020-02-29\n71723   2020-03-01\n71724   2020-02-29\n71725   2020-02-26\n71726   2020-02-28\n71727   2020-03-03\n71728   2020-03-04\n71729   2020-03-06\n71730   2020-03-07\n71731   2020-02-22\n71732   2020-03-09\n71733   2020-03-06\n71734   2020-03-10\n71735   2020-03-11\n71736   2020-03-13\n71737   2020-03-13\n71738   2020-03-14\n71739   2020-03-14\n71740   2020-03-16\n71741   2020-03-17\n71742   2020-03-18\n71743   2020-03-17\nName: Fecha, Length: 71744, dtype: datetime64[ns]] of type <class 'pandas.core.series.Series'> to Timestamp"
     ]
    }
   ],
   "source": [
    "dti = pd.date_range(dataFrame['Fecha'], periods=2, freq='M')"
   ]
  },
  {
   "cell_type": "code",
   "execution_count": null,
   "metadata": {},
   "outputs": [],
   "source": []
  }
 ],
 "metadata": {
  "kernelspec": {
   "display_name": "Python 3",
   "language": "python",
   "name": "python3"
  },
  "language_info": {
   "codemirror_mode": {
    "name": "ipython",
    "version": 3
   },
   "file_extension": ".py",
   "mimetype": "text/x-python",
   "name": "python",
   "nbconvert_exporter": "python",
   "pygments_lexer": "ipython3",
   "version": "3.6.5"
  }
 },
 "nbformat": 4,
 "nbformat_minor": 2
}
